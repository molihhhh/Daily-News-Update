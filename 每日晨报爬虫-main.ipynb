{
 "cells": [
  {
   "cell_type": "code",
   "execution_count": 1,
   "metadata": {},
   "outputs": [],
   "source": [
    "import requests # for downloading the HTML\n",
    "from bs4 import BeautifulSoup # for parsing and searching through the HTML\n",
    "import os"
   ]
  },
  {
   "cell_type": "code",
   "execution_count": 2,
   "metadata": {},
   "outputs": [],
   "source": [
    "# STAGE 1: extract all the links on the page\n",
    "url = \"http://funds.hexun.com/\"\n",
    "resp = requests.get(url)\n",
    "resp.raise_for_status()\n",
    "resp.encoding = 'GBK'\n",
    "page = BeautifulSoup(resp.text, \"html.parser\")"
   ]
  },
  {
   "cell_type": "code",
   "execution_count": 3,
   "metadata": {
    "scrolled": true
   },
   "outputs": [],
   "source": [
    "tt1 = page.find_all(\"a\")\n",
    "for i in range(len(tt1)):\n",
    "    if \"最新资讯\" in tt1[i]:\n",
    "        #print(i)\n",
    "        start_point = i + 13 \n",
    "        \n",
    "tt1[start_point]\n",
    "\n",
    "newslist = []\n",
    "linkdict = {}\n",
    "\n",
    "\n",
    "for i in range(5):\n",
    "    link = tt1[start_point][\"href\"]\n",
    "    #print (tt1[start_point][\"href\"])\n",
    "    newslist += tt1[start_point]\n",
    "    news = tt1[start_point].get_text()\n",
    "    linkdict[news] = link\n",
    "    start_point += 1 "
   ]
  },
  {
   "cell_type": "code",
   "execution_count": 4,
   "metadata": {
    "scrolled": false
   },
   "outputs": [
    {
     "name": "stdout",
     "output_type": "stream",
     "text": [
      "标题： 公募二季度动向:34股持仓市值超百亿\n",
      "概要： 证券时报·数据宝统计显示，与一季末相比，二季度4个行业获得公募基金加仓，分别是电气设备、医药生物、休闲服务及综合行业，其中电气设备获加仓5.16亿股，医药生物获加仓3.03亿股。\n",
      "链接： http://funds.hexun.com/2020-08-12/201856104.html\n",
      "----------------------\n",
      "标题： 券商私募资管前二十强主动管理再破3万亿\n",
      "概要： 在总规模上，中信证券(600030,股吧)仍然占据首位，招商资管则超过国泰君安资管上升为第二名。同时，华福证券时隔五个季度再次进入前二十强。在主动管理规模上，中信证券、招商资管、广发资管和海通资管二季度均新增百亿元以上。此外，国信证券(002736,股吧)、申港证券进入主动管理规模前二十强。\n",
      "链接： http://funds.hexun.com/2020-08-12/201856194.html\n",
      "----------------------\n",
      "标题： 今年新发爆款基金近万亿 权益产品是主力军\n",
      "概要： Wind数据显示，截至8月7日，今年以来新成立862只新基金，募集资金合计达到1.75万亿元，超过2015年1.32万亿元、2019年1.43万亿元的年度发行规模，创出历史新高。其中的爆款基金数量也刷新纪录——同期成立的发行规模超50亿元的新基金达到102只，发行总规模9607.75亿元，在全部新基金中占到了55%。\n",
      "链接： http://funds.hexun.com/2020-08-11/201849145.html\n",
      "----------------------\n",
      "标题： 非交易过户打新即将开闸 基金专户积极备战\n",
      "概要： 近日，多家上市公司发布关于控股股东所持部分股份非交易过户的提示性公告，委托券商资管或基金专户设立单一资产管理计划，以开展股票、基金等金融产品投资。\n",
      "链接： http://funds.hexun.com/2020-08-11/201849142.html\n",
      "----------------------\n",
      "标题： 运作一周年 浮动净值型货基难改叫好不叫座\n",
      "概要： 去年8月14日，首只浮动净值型货币基金产品成立，但在“周岁生日”之际，这类资管新规下的创新型货币产品却并未迎来大发展。Wind数据显示，截至今年上半年末，6只浮动净值型货币基金规模（份额合并计算）仅约为31.69亿元，较成立时减少近58%。\n",
      "链接： http://funds.hexun.com/2020-08-11/201849333.html\n",
      "----------------------\n"
     ]
    }
   ],
   "source": [
    "nn = 0\n",
    "for l in linkdict.values():\n",
    "    url = l\n",
    "    resp = requests.get(url)\n",
    "    resp.raise_for_status()\n",
    "    resp.encoding = 'GBK'\n",
    "    page = BeautifulSoup(resp.text, \"html.parser\")\n",
    "    #print(page.prettify())\n",
    "    text = page.find_all(\"p\")\n",
    "    text\n",
    "    n = 1\n",
    "    print(\"标题：\",list(linkdict.keys())[nn])\n",
    "    nn += 1\n",
    "    for word in text:\n",
    "        \n",
    "        words = word.get_text()\n",
    "        \n",
    "        if len(words) >= 30:\n",
    "            #passage[\"1、\"][\"概要\"] = words\n",
    "            n += 1\n",
    "            if n > 2:\n",
    "                print(\"概要：\",words)\n",
    "                break\n",
    "    print(\"链接：\", l)        \n",
    "            \n",
    "    print(\"----------------------\")\n",
    "                \n"
   ]
  },
  {
   "cell_type": "code",
   "execution_count": null,
   "metadata": {},
   "outputs": [],
   "source": []
  },
  {
   "cell_type": "code",
   "execution_count": null,
   "metadata": {},
   "outputs": [],
   "source": []
  },
  {
   "cell_type": "code",
   "execution_count": null,
   "metadata": {},
   "outputs": [],
   "source": []
  },
  {
   "cell_type": "code",
   "execution_count": null,
   "metadata": {},
   "outputs": [],
   "source": []
  },
  {
   "cell_type": "code",
   "execution_count": null,
   "metadata": {},
   "outputs": [],
   "source": []
  },
  {
   "cell_type": "code",
   "execution_count": null,
   "metadata": {},
   "outputs": [],
   "source": []
  },
  {
   "cell_type": "code",
   "execution_count": null,
   "metadata": {},
   "outputs": [],
   "source": []
  },
  {
   "cell_type": "code",
   "execution_count": null,
   "metadata": {},
   "outputs": [],
   "source": []
  }
 ],
 "metadata": {
  "kernelspec": {
   "display_name": "Python 3",
   "language": "python",
   "name": "python3"
  },
  "language_info": {
   "codemirror_mode": {
    "name": "ipython",
    "version": 3
   },
   "file_extension": ".py",
   "mimetype": "text/x-python",
   "name": "python",
   "nbconvert_exporter": "python",
   "pygments_lexer": "ipython3",
   "version": "3.8.1"
  }
 },
 "nbformat": 4,
 "nbformat_minor": 4
}
